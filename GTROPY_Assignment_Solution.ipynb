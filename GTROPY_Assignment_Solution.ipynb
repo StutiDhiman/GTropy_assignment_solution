{
 "cells": [
  {
   "cell_type": "code",
   "execution_count": 1,
   "id": "f7f9d8fb-7100-45c9-a2a3-1bba2ce55abd",
   "metadata": {},
   "outputs": [],
   "source": [
    "#Design a dictionary Data structure, where any word when entered, it searches the entered word in the dictionary and returns the relevant \n",
    "#searched word if any!"
   ]
  },
  {
   "cell_type": "code",
   "execution_count": 6,
   "id": "d8d010a9-3d42-48d1-8959-6e6fb6e5abad",
   "metadata": {},
   "outputs": [
    {
     "name": "stdin",
     "output_type": "stream",
     "text": [
      "Enter word:  abac\n"
     ]
    },
    {
     "name": "stdout",
     "output_type": "stream",
     "text": [
      "Word 'abac' not found in dictionary.\n",
      "Suggested words found in dictionary: abaci, aback, abacus, abacuses, fabaceous, pickaback\n"
     ]
    }
   ],
   "source": [
    "def all_combinations(word):\n",
    "    \"\"\"Generate all possible substrings of a word.\"\"\"\n",
    "    combinations = []\n",
    "    length = len(word)\n",
    "    for i in range(length):\n",
    "        for j in range(i + 1, length + 1):\n",
    "            combinations.append(word[i:j])\n",
    "    return combinations\n",
    "\n",
    "def search_dict(word):\n",
    "    \"\"\"Search for an exact word in the dictionary file.\"\"\"\n",
    "    with open('Dictionary_File.txt', 'r') as file:\n",
    "        lines = file.readlines()\n",
    "        for line in lines:\n",
    "            if word == line.strip():\n",
    "                return word\n",
    "    return None\n",
    "\n",
    "def search_rel_word(word):\n",
    "    \"\"\"Find all lines in the dictionary file that contain any substrings of the word.\"\"\"\n",
    "    related_words = []\n",
    "    with open('Dictionary_File.txt', 'r') as file:\n",
    "        lines = file.readlines()\n",
    "        for line in lines:\n",
    "            line = line.strip()\n",
    "            split_line = all_combinations(line)\n",
    "            if word in split_line:\n",
    "                related_words.append(line)\n",
    "    return related_words\n",
    "\n",
    "# User input\n",
    "word = input(\"Enter word: \")\n",
    "\n",
    "# Search for exact word\n",
    "exact_match = search_dict(word)\n",
    "if exact_match:\n",
    "    print(f\"Word found in dictionary: {exact_match}\")\n",
    "else:\n",
    "    print(f\"Word '{word}' not found in dictionary.\")\n",
    "\n",
    "# Search for related words\n",
    "related_matches = search_rel_word(word)\n",
    "if related_matches:\n",
    "    print(f\"Suggested words found in dictionary: {', '.join(related_matches)}\")\n",
    "else:\n",
    "    print(f\"No suggested words found for '{word}' in dictionary.\")"
   ]
  },
  {
   "cell_type": "code",
   "execution_count": null,
   "id": "a5cc5272-ccbd-43ec-a587-5e3afc135974",
   "metadata": {},
   "outputs": [],
   "source": []
  }
 ],
 "metadata": {
  "kernelspec": {
   "display_name": "Python 3 (ipykernel)",
   "language": "python",
   "name": "python3"
  },
  "language_info": {
   "codemirror_mode": {
    "name": "ipython",
    "version": 3
   },
   "file_extension": ".py",
   "mimetype": "text/x-python",
   "name": "python",
   "nbconvert_exporter": "python",
   "pygments_lexer": "ipython3",
   "version": "3.12.1"
  }
 },
 "nbformat": 4,
 "nbformat_minor": 5
}
